# data_preprocessing.ipynb (Google Colab)

# Import libraries
import pandas as pd
from rdkit import Chem
from rdkit.Chem import AllChem
import pickle
from google.colab import drive

# Mount Google Drive (to save/load files)
drive.mount('/content/drive')

# Load raw data
data_path = '/content/drive/My Drive/drug-drug-interaction/data/raw/drugbank.csv'
drugbank_data = pd.read_csv(data_path)

# Display first few rows
print("Raw Data:")
print(drugbank_data.head())

# Generate molecular fingerprints
def generate_fingerprint(smiles):
    mol = Chem.MolFromSmiles(smiles)
    return AllChem.GetMorganFingerprintAsBitVect(mol, 2)

# Add fingerprints to the dataset
drugbank_data['fingerprint'] = drugbank_data['SMILES'].apply(generate_fingerprint)

# Save processed data
processed_data_path = '/content/drive/My Drive/drug-drug-interaction/data/processed/drugbank_processed.csv'
drugbank_data.to_csv(processed_data_path, index=False)

# Save fingerprints as a pickle file
fingerprints = {row['Drug']: row['fingerprint'] for _, row in drugbank_data.iterrows()}
fingerprints_path = '/content/drive/My Drive/drug-drug-interaction/data/processed/fingerprints.pkl'
with open(fingerprints_path, 'wb') as f:
    pickle.dump(fingerprints, f)

print("Data preprocessing complete! Processed data saved to Google Drive.")
