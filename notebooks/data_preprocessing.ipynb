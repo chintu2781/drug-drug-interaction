# data_preprocessing.ipynb

# Import libraries
import pandas as pd
from rdkit import Chem
from rdkit.Chem import AllChem
import pickle

# Load raw data
drugbank_data = pd.read_csv('../data/raw/drugbank.csv')

# Display first few rows
print("Raw Data:")
print(drugbank_data.head())

# Generate molecular fingerprints
def generate_fingerprint(smiles):
    mol = Chem.MolFromSmiles(smiles)
    return AllChem.GetMorganFingerprintAsBitVect(mol, 2)

# Add fingerprints to the dataset
drugbank_data['fingerprint'] = drugbank_data['SMILES'].apply(generate_fingerprint)

# Save processed data
drugbank_data.to_csv('../data/processed/drugbank_processed.csv', index=False)

# Save fingerprints as a pickle file
fingerprints = {row['Drug']: row['fingerprint'] for _, row in drugbank_data.iterrows()}
with open('../data/processed/fingerprints.pkl', 'wb') as f:
    pickle.dump(fingerprints, f)

print("Data preprocessing complete! Processed data saved to '../data/processed/'.")
